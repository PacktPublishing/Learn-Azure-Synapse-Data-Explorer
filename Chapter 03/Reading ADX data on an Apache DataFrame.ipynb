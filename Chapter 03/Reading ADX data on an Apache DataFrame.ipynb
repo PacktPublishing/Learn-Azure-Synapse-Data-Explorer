{
  "cells": [
    {
      "cell_type": "markdown",
      "source": [
        "# Reading data from a Data Explorer pool\r\n",
        "The code cell bellow reads data from our Data Explorer pool using **PySpark** and loads it into a Spark DataFrame. "
      ],
      "metadata": {
        "nteract": {
          "transient": {
            "deleting": false
          }
        }
      }
    },
    {
      "cell_type": "code",
      "source": [
        "%%pyspark\n",
        "\n",
        "kustoDf  = spark.read \\\n",
        "    .format(\"com.microsoft.kusto.spark.synapse.datasource\") \\\n",
        "    .option(\"spark.synapse.linkedService\", \"kustoPool\") \\\n",
        "    .option(\"kustoCluster\", \"https://droneanalyticsadx.drone-analytics.kusto.azuresynapse.net\") \\\n",
        "    .option(\"kustoDatabase\", \"drone-telemetry\") \\\n",
        "    .option(\"kustoQuery\", \"['fleet data'] | take 10\") \\\n",
        "    .load()\n",
        "\n",
        "display(kustoDf)"
      ],
      "outputs": [
        {
          "output_type": "display_data",
          "data": {
            "application/vnd.livy.statement-meta+json": {
              "spark_pool": null,
              "session_id": null,
              "statement_id": null,
              "state": "session_starting",
              "livy_statement_state": null,
              "queued_time": "2023-01-06T16:21:24.2296363Z",
              "session_start_time": "2023-01-06T16:21:24.2875042Z",
              "execution_start_time": null,
              "execution_finish_time": null,
              "spark_jobs": null
            },
            "text/plain": "StatementMeta(, , , SessionStarting, )"
          },
          "metadata": {}
        }
      ],
      "execution_count": 1,
      "metadata": {
        "microsoft": {
          "language": "python"
        },
        "collapsed": false
      }
    }
  ],
  "metadata": {
    "kernelspec": {
      "name": "synapse_pyspark",
      "language": "Python",
      "display_name": "Synapse PySpark"
    },
    "language_info": {
      "name": "python"
    },
    "kernel_info": {
      "name": "synapse_pyspark"
    },
    "save_output": true,
    "synapse_widget": {
      "version": "0.1",
      "state": {}
    }
  },
  "nbformat": 4,
  "nbformat_minor": 2
}